{
 "cells": [
  {
   "cell_type": "markdown",
   "metadata": {
    "slideshow": {
     "slide_type": "slide"
    }
   },
   "source": [
    "<center><h1>Computational Statistics:</h1></center>\n",
    "<center><h1>Inspection Paradox</h1></center>"
   ]
  },
  {
   "cell_type": "markdown",
   "metadata": {
    "slideshow": {
     "slide_type": "fragment"
    }
   },
   "source": [
    "<center>We'll try to answer the eternal question:</center>\n",
    "<center>Why are your friends are more popular than you?</center>"
   ]
  },
  {
   "cell_type": "markdown",
   "metadata": {
    "slideshow": {
     "slide_type": "slide"
    }
   },
   "source": [
    "Preview\n",
    "-----\n",
    "\n",
    "- Summary statistics do not always capture people's experience"
   ]
  },
  {
   "cell_type": "markdown",
   "metadata": {
    "slideshow": {
     "slide_type": "slide"
    }
   },
   "source": [
    "<center><h2>School advertise small class sizes, <br>but students complain about how large their classes are.</h2></center>\n",
    "\n",
    "<center><h2>Who is right?</h2></center>"
   ]
  },
  {
   "cell_type": "code",
   "execution_count": 39,
   "metadata": {
    "slideshow": {
     "slide_type": "notes"
    }
   },
   "outputs": [],
   "source": [
    "reset -fs"
   ]
  },
  {
   "cell_type": "code",
   "execution_count": 40,
   "metadata": {
    "slideshow": {
     "slide_type": "slide"
    }
   },
   "outputs": [],
   "source": [
    "from random import expovariate"
   ]
  },
  {
   "cell_type": "code",
   "execution_count": 41,
   "metadata": {
    "slideshow": {
     "slide_type": "fragment"
    }
   },
   "outputs": [
    {
     "data": {
      "text/plain": [
       "[55,\n",
       " 29,\n",
       " 37,\n",
       " 38]"
      ]
     },
     "execution_count": 41,
     "metadata": {},
     "output_type": "execute_result"
    }
   ],
   "source": [
    "class_size = 30\n",
    "sizes = [int(expovariate(1/class_size)) for _ in range(1_000)]\n",
    "sizes"
   ]
  },
  {
   "cell_type": "code",
   "execution_count": 42,
   "metadata": {
    "slideshow": {
     "slide_type": "slide"
    }
   },
   "outputs": [
    {
     "data": {
      "image/png": "[encoded data removed]",
      "text/plain": [
       "<Figure size 432x288 with 1 Axes>"
      ]
     },
     "metadata": {
      "needs_background": "light"
     },
     "output_type": "display_data"
    }
   ],
   "source": [
    "import seaborn as sns\n",
    "\n",
    "palette = \"Dark2\"\n",
    "%matplotlib inline\n",
    "\n",
    "sns.distplot(sizes, kde=False);"
   ]
  },
  {
   "cell_type": "code",
   "execution_count": 43,
   "metadata": {
    "slideshow": {
     "slide_type": "slide"
    }
   },
   "outputs": [
    {
     "name": "stdout",
     "output_type": "stream",
     "text": [
      "29.56\n"
     ]
    }
   ],
   "source": [
    "# What is the average class size?\n",
    "from statistics import mean\n",
    "\n",
    "mean_class_size = mean(sizes)\n",
    "print(f\"{mean_class_size:.2f}\")"
   ]
  },
  {
   "cell_type": "code",
   "execution_count": 44,
   "metadata": {
    "slideshow": {
     "slide_type": "fragment"
    }
   },
   "outputs": [
    {
     "name": "stdout",
     "output_type": "stream",
     "text": [
      "57.54\n"
     ]
    }
   ],
   "source": [
    "# What is the student's experience?\n",
    "from random import choices\n",
    "\n",
    "student_experience = choices(sizes, weights=sizes, k=len(sizes))\n",
    "mean_student_experience = mean(student_experience)\n",
    "print(f\"{mean_student_experience:.2f}\")"
   ]
  },
  {
   "cell_type": "markdown",
   "metadata": {
    "slideshow": {
     "slide_type": "slide"
    }
   },
   "source": [
    "<center><h2>What is happening?</h2></center>"
   ]
  },
  {
   "cell_type": "markdown",
   "metadata": {
    "slideshow": {
     "slide_type": "fragment"
    }
   },
   "source": [
    "Inspection paradox - Larger classes are more likely be sampled by students than smaller classes."
   ]
  },
  {
   "cell_type": "markdown",
   "metadata": {
    "slideshow": {
     "slide_type": "fragment"
    }
   },
   "source": [
    "This is also why __your__ bus wait is more likely to be longer than the __average__ bus weight time."
   ]
  },
  {
   "cell_type": "markdown",
   "metadata": {
    "slideshow": {
     "slide_type": "slide"
    }
   },
   "source": [
    "<center><h2>Did I cheat by sampling from the exponential. <br>What about other distributions?</h2></center>"
   ]
  },
  {
   "cell_type": "code",
   "execution_count": 45,
   "metadata": {
    "slideshow": {
     "slide_type": "fragment"
    }
   },
   "outputs": [],
   "source": [
    "def actual_vs_perception(class_size, distribution_name, **distrubtion_params):\n",
    "    \n",
    "    sizes = [distribution_name(**distrubtion_params) for _ in range(10_000)]\n",
    "    mean_class_size = mean(sizes)\n",
    "    print(f\"The actual mean class size is: {mean_class_size:>8.2f}\")\n",
    "\n",
    "    student_experience = choices(sizes, weights=sizes, k=len(sizes))\n",
    "    mean_student_experience = mean(student_experience)\n",
    "    print(f\"The perceived mean class size is: {mean_student_experience:>5.2f}\")"
   ]
  },
  {
   "cell_type": "markdown",
   "metadata": {
    "slideshow": {
     "slide_type": "notes"
    }
   },
   "source": [
    "The software engineer in me wants to write tests."
   ]
  },
  {
   "cell_type": "code",
   "execution_count": 46,
   "metadata": {
    "slideshow": {
     "slide_type": "slide"
    }
   },
   "outputs": [
    {
     "name": "stdout",
     "output_type": "stream",
     "text": [
      "The actual mean class size is:    30.40\n",
      "The perceived mean class size is: 60.37\n"
     ]
    }
   ],
   "source": [
    "actual_vs_perception(class_size=30, distribution_name=expovariate, lambd=1/class_size)"
   ]
  },
  {
   "cell_type": "code",
   "execution_count": 47,
   "metadata": {
    "slideshow": {
     "slide_type": "fragment"
    }
   },
   "outputs": [
    {
     "name": "stdout",
     "output_type": "stream",
     "text": [
      "The actual mean class size is:    29.90\n",
      "The perceived mean class size is: 33.06\n"
     ]
    }
   ],
   "source": [
    "from random import gauss\n",
    "\n",
    "actual_vs_perception(class_size=30, distribution_name=gauss, mu=class_size, sigma=10)"
   ]
  },
  {
   "cell_type": "code",
   "execution_count": 48,
   "metadata": {
    "slideshow": {
     "slide_type": "fragment"
    }
   },
   "outputs": [
    {
     "name": "stdout",
     "output_type": "stream",
     "text": [
      "The actual mean class size is:    29.99\n",
      "The perceived mean class size is: 32.55\n"
     ]
    }
   ],
   "source": [
    "from random import uniform\n",
    "\n",
    "actual_vs_perception(class_size=30, distribution_name=uniform, a=15, b=45)"
   ]
  },
  {
   "cell_type": "markdown",
   "metadata": {
    "slideshow": {
     "slide_type": "fragment"
    }
   },
   "source": [
    "The effect is more pronounced with the exponential but present in most distributions."
   ]
  },
  {
   "cell_type": "markdown",
   "metadata": {
    "slideshow": {
     "slide_type": "slide"
    }
   },
   "source": [
    "<center><h2>Statistics are a defense against human cognitive biases.</h2></center>"
   ]
  },
  {
   "cell_type": "markdown",
   "metadata": {
    "slideshow": {
     "slide_type": "slide"
    }
   },
   "source": [
    "<center><h2>Student activity: Answer the following question …</h2></center>\n",
    "<center><h2>Why are you less popular than your friends?</h2></center>\n",
    "<br>\n",
    "\n",
    "<center><h2>Think, pair, share</h2></center>"
   ]
  },
  {
   "cell_type": "markdown",
   "metadata": {
    "slideshow": {
     "slide_type": "slide"
    }
   },
   "source": [
    "Review\n",
    "-----\n",
    "\n",
    "- Summary statistics can be misleading. \n",
    "- We use simulation to understand the human experience.\n",
    "- Statistics and programming can help structure reasoning.\n"
   ]
  },
  {
   "cell_type": "markdown",
   "metadata": {
    "slideshow": {
     "slide_type": "slide"
    }
   },
   "source": [
    " "
   ]
  },
  {
   "cell_type": "markdown",
   "metadata": {
    "slideshow": {
     "slide_type": "notes"
    }
   },
   "source": [
    "Sources\n",
    "-----\n",
    "\n",
    "Renewal theory https://en.wikipedia.org/wiki/Renewal_theory\n",
    "\n",
    "http://ben-israel.rutgers.edu/711/Ross-Inspection.pdf\n",
    "\n",
    "http://allendowney.blogspot.com/2015/08/the-inspection-paradox-is-everywhere.html\n",
    "\n",
    "https://twitter.com/raymondh/status/1056774933471145984\n",
    "\n",
    "https://www.scientificamerican.com/article/why-youre-probably-less-popular/\n",
    "\n",
    "http://jakevdp.github.io/blog/2018/09/13/waiting-time-paradox/\n",
    "\n",
    "Book: [Mindware: Tools for Smart Thinking](https://www.amazon.com/Mindware-Tools-Thinking-Richard-Nisbett/dp/1511357193)"
   ]
  }
 ],
 "metadata": {
  "celltoolbar": "Slideshow",
  "kernelspec": {
   "display_name": "Python 3",
   "language": "python",
   "name": "python3"
  },
  "language_info": {
   "codemirror_mode": {
    "name": "ipython",
    "version": 3
   },
   "file_extension": ".py",
   "mimetype": "text/x-python",
   "name": "python",
   "nbconvert_exporter": "python",
   "pygments_lexer": "ipython3",
   "version": "3.7.2"
  }
 },
 "nbformat": 4,
 "nbformat_minor": 2
}
